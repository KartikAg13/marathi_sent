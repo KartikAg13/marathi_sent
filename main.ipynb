{
 "cells": [
  {
   "cell_type": "code",
   "execution_count": 1,
   "id": "de073d00",
   "metadata": {},
   "outputs": [],
   "source": [
    "import pandas as pd"
   ]
  },
  {
   "cell_type": "code",
   "execution_count": null,
   "id": "bce87146",
   "metadata": {},
   "outputs": [],
   "source": [
    "train_data: pd.DataFrame = pd.read_csv(\"dataset/MahaSent_All_Train.csv\").drop(columns=[\"Unnamed: 0\"])\n",
    "val_data: pd.DataFrame = pd.read_csv(\"dataset/MahaSent_All_Val.csv\").drop(columns=[\"Unnamed: 0\"])\n",
    "test_data: pd.DataFrame = pd.read_csv(\"dataset/MahaSent_All_Test.csv\").drop(columns=[\"Unnamed: 0\"])"
   ]
  },
  {
   "cell_type": "code",
   "execution_count": null,
   "id": "20fca0ea",
   "metadata": {},
   "outputs": [],
   "source": [
    "def getXAndY(data: pd.DataFrame) -> tuple[pd.DataFrame, pd.DataFrame]:\n",
    "    return (data[\"text\"], data[\"label\"])"
   ]
  },
  {
   "cell_type": "code",
   "execution_count": null,
   "id": "ea0928f8",
   "metadata": {},
   "outputs": [],
   "source": [
    "x_train, y_train = getXAndY(data=train_data)\n",
    "x_val, y_val = getXAndY(data=val_data)\n",
    "x_test, y_test = getXAndY(data=test_data)"
   ]
  }
 ],
 "metadata": {
  "kernelspec": {
   "display_name": "marathi_sent",
   "language": "python",
   "name": "python3"
  },
  "language_info": {
   "codemirror_mode": {
    "name": "ipython",
    "version": 3
   },
   "file_extension": ".py",
   "mimetype": "text/x-python",
   "name": "python",
   "nbconvert_exporter": "python",
   "pygments_lexer": "ipython3",
   "version": "3.12.11"
  }
 },
 "nbformat": 4,
 "nbformat_minor": 5
}
