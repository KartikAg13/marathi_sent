{
 "cells": [
  {
   "cell_type": "code",
   "execution_count": 1,
   "id": "de073d00",
   "metadata": {},
   "outputs": [],
   "source": [
    "import numpy as np\n",
    "import pandas as pd"
   ]
  },
  {
   "cell_type": "code",
   "execution_count": 2,
   "id": "624951e0",
   "metadata": {},
   "outputs": [],
   "source": [
    "np.random.seed(seed=42)\n",
    "load_path: str = \"dataset/raw/MahaSent_All_\""
   ]
  },
  {
   "cell_type": "code",
   "execution_count": 3,
   "id": "bce87146",
   "metadata": {},
   "outputs": [],
   "source": [
    "train_df: pd.DataFrame = pd.read_csv(f\"{load_path}Train.csv\", encoding=\"utf-8\").drop(\n",
    "    columns=[\"Unnamed: 0\"]\n",
    ")\n",
    "\n",
    "val_df: pd.DataFrame = pd.read_csv(f\"{load_path}Val.csv\", encoding=\"utf-8\").drop(\n",
    "    columns=[\"Unnamed: 0\"]\n",
    ")\n",
    "\n",
    "test_df: pd.DataFrame = pd.read_csv(f\"{load_path}Test.csv\", encoding=\"utf-8\").drop(\n",
    "    columns=[\"Unnamed: 0\"]\n",
    ")"
   ]
  },
  {
   "cell_type": "code",
   "execution_count": 4,
   "id": "72241abc",
   "metadata": {},
   "outputs": [
    {
     "name": "stdout",
     "output_type": "stream",
     "text": [
      "Shape of dataset: (60509, 2)\n"
     ]
    },
    {
     "data": {
      "application/vnd.microsoft.datawrangler.viewer.v0+json": {
       "columns": [
        {
         "name": "index",
         "rawType": "int64",
         "type": "integer"
        },
        {
         "name": "text",
         "rawType": "object",
         "type": "string"
        },
        {
         "name": "label",
         "rawType": "int64",
         "type": "integer"
        }
       ],
       "ref": "71b6f9e6-19f8-446b-b74f-cf286be272a0",
       "rows": [
        [
         "0",
         "ही प्रेरणा एका पिढीकडून दुसऱ्या पिढीकडे आणि मग संपूर्ण गावात कशी पसरते हे पडद्यावर पाहणे रंजक आहे",
         "1"
        ],
        [
         "1",
         "काश्मिरमध्ये आजही लहान मुलं आणि युवकांना धर्माच्या नावाखाली भडकवून बंदूक हातात घ्यायला भाग पाडलं जातं",
         "-1"
        ],
        [
         "2",
         " पवार साहेबांवर टीका करणाऱ्यांना महाराष्ट्रातील जनता मत पेटीतून उत्तर देईल.      साल हे परिवर्तनाचे साल घोषित करून जनतेने या सरकारला खाली खेचले पाहिजे. \n\n \n",
         "-1"
        ],
        [
         "3",
         " मी दुखी का मी खुशच आहे ",
         "1"
        ],
        [
         "4",
         "कठीण परिस्थितीशी दोन हात करण्यापेक्षा हार मानून आत्महत्या करण्याचं टोकाचं पाऊल उचलणाऱ्या तीची गोष्ट आहे",
         "-1"
        ]
       ],
       "shape": {
        "columns": 2,
        "rows": 5
       }
      },
      "text/html": [
       "<div>\n",
       "<style scoped>\n",
       "    .dataframe tbody tr th:only-of-type {\n",
       "        vertical-align: middle;\n",
       "    }\n",
       "\n",
       "    .dataframe tbody tr th {\n",
       "        vertical-align: top;\n",
       "    }\n",
       "\n",
       "    .dataframe thead th {\n",
       "        text-align: right;\n",
       "    }\n",
       "</style>\n",
       "<table border=\"1\" class=\"dataframe\">\n",
       "  <thead>\n",
       "    <tr style=\"text-align: right;\">\n",
       "      <th></th>\n",
       "      <th>text</th>\n",
       "      <th>label</th>\n",
       "    </tr>\n",
       "  </thead>\n",
       "  <tbody>\n",
       "    <tr>\n",
       "      <th>0</th>\n",
       "      <td>ही प्रेरणा एका पिढीकडून दुसऱ्या पिढीकडे आणि मग...</td>\n",
       "      <td>1</td>\n",
       "    </tr>\n",
       "    <tr>\n",
       "      <th>1</th>\n",
       "      <td>काश्मिरमध्ये आजही लहान मुलं आणि युवकांना धर्मा...</td>\n",
       "      <td>-1</td>\n",
       "    </tr>\n",
       "    <tr>\n",
       "      <th>2</th>\n",
       "      <td>पवार साहेबांवर टीका करणाऱ्यांना महाराष्ट्राती...</td>\n",
       "      <td>-1</td>\n",
       "    </tr>\n",
       "    <tr>\n",
       "      <th>3</th>\n",
       "      <td>मी दुखी का मी खुशच आहे</td>\n",
       "      <td>1</td>\n",
       "    </tr>\n",
       "    <tr>\n",
       "      <th>4</th>\n",
       "      <td>कठीण परिस्थितीशी दोन हात करण्यापेक्षा हार मानू...</td>\n",
       "      <td>-1</td>\n",
       "    </tr>\n",
       "  </tbody>\n",
       "</table>\n",
       "</div>"
      ],
      "text/plain": [
       "                                                text  label\n",
       "0  ही प्रेरणा एका पिढीकडून दुसऱ्या पिढीकडे आणि मग...      1\n",
       "1  काश्मिरमध्ये आजही लहान मुलं आणि युवकांना धर्मा...     -1\n",
       "2   पवार साहेबांवर टीका करणाऱ्यांना महाराष्ट्राती...     -1\n",
       "3                            मी दुखी का मी खुशच आहे       1\n",
       "4  कठीण परिस्थितीशी दोन हात करण्यापेक्षा हार मानू...     -1"
      ]
     },
     "execution_count": 4,
     "metadata": {},
     "output_type": "execute_result"
    }
   ],
   "source": [
    "data: pd.DataFrame = pd.concat([train_df, val_df, test_df], axis=0)\n",
    "data = data.drop_duplicates(subset=[\"text\"], keep=\"first\")\n",
    "data = data.sample(frac=1).reset_index(drop=True)\n",
    "print(f\"Shape of dataset: {data.shape}\")\n",
    "data.head()"
   ]
  },
  {
   "cell_type": "code",
   "execution_count": 5,
   "id": "20fca0ea",
   "metadata": {},
   "outputs": [],
   "source": [
    "val_size: int = 4000\n",
    "test_size: int = 6000"
   ]
  },
  {
   "cell_type": "code",
   "execution_count": 6,
   "id": "f7918539",
   "metadata": {},
   "outputs": [],
   "source": [
    "val_data: pd.DataFrame = data.iloc[:val_size]\n",
    "test_data: pd.DataFrame = data.iloc[val_size : val_size + test_size]\n",
    "train_data: pd.DataFrame = data.iloc[val_size + test_size :]"
   ]
  },
  {
   "cell_type": "code",
   "execution_count": 7,
   "id": "74a38990",
   "metadata": {},
   "outputs": [],
   "source": [
    "save_path: str = \"dataset/preprocess/\""
   ]
  },
  {
   "cell_type": "code",
   "execution_count": 8,
   "id": "9bccfe00",
   "metadata": {},
   "outputs": [],
   "source": [
    "val_data.to_csv(path_or_buf=f\"{save_path}val.csv\", encoding=\"utf-8\", index=False)\n",
    "train_data.to_csv(path_or_buf=f\"{save_path}train.csv\", encoding=\"utf-8\", index=False)\n",
    "test_data.to_csv(path_or_buf=f\"{save_path}test.csv\", encoding=\"utf-8\", index=False)"
   ]
  }
 ],
 "metadata": {
  "kernelspec": {
   "display_name": "marathi_sent",
   "language": "python",
   "name": "python3"
  },
  "language_info": {
   "codemirror_mode": {
    "name": "ipython",
    "version": 3
   },
   "file_extension": ".py",
   "mimetype": "text/x-python",
   "name": "python",
   "nbconvert_exporter": "python",
   "pygments_lexer": "ipython3",
   "version": "3.12.11"
  }
 },
 "nbformat": 4,
 "nbformat_minor": 5
}
