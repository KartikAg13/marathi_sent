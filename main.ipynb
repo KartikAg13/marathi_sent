{
 "cells": [
  {
   "cell_type": "code",
   "execution_count": null,
   "id": "de073d00",
   "metadata": {},
   "outputs": [],
   "source": [
    "import numpy as np\n",
    "import pandas as pd"
   ]
  },
  {
   "cell_type": "code",
   "execution_count": 2,
   "id": "624951e0",
   "metadata": {},
   "outputs": [],
   "source": [
    "np.random.seed(seed=42)"
   ]
  },
  {
   "cell_type": "code",
   "execution_count": null,
   "id": "bce87146",
   "metadata": {},
   "outputs": [],
   "source": [
    "train_df: pd.DataFrame = pd.read_csv(\"dataset/MahaSent_All_Train.csv\").drop(\n",
    "    columns=[\"Unnamed: 0\"]\n",
    ")\n",
    "\n",
    "val_df: pd.DataFrame = pd.read_csv(\"dataset/MahaSent_All_Val.csv\").drop(\n",
    "    columns=[\"Unnamed: 0\"]\n",
    ")\n",
    "\n",
    "test_df: pd.DataFrame = pd.read_csv(\"dataset/MahaSent_All_Test.csv\").drop(\n",
    "    columns=[\"Unnamed: 0\"]\n",
    ")"
   ]
  },
  {
   "cell_type": "code",
   "execution_count": 4,
   "id": "72241abc",
   "metadata": {},
   "outputs": [
    {
     "name": "stdout",
     "output_type": "stream",
     "text": [
      "Shape of dataset: (60509, 2)\n"
     ]
    },
    {
     "data": {
      "application/vnd.microsoft.datawrangler.viewer.v0+json": {
       "columns": [
        {
         "name": "index",
         "rawType": "int64",
         "type": "integer"
        },
        {
         "name": "text",
         "rawType": "object",
         "type": "string"
        },
        {
         "name": "label",
         "rawType": "int64",
         "type": "integer"
        }
       ],
       "ref": "e5f10183-2891-4790-9c83-0165d8301a25",
       "rows": [
        [
         "0",
         "ही प्रेरणा एका पिढीकडून दुसऱ्या पिढीकडे आणि मग संपूर्ण गावात कशी पसरते हे पडद्यावर पाहणे रंजक आहे",
         "1"
        ],
        [
         "1",
         "काश्मिरमध्ये आजही लहान मुलं आणि युवकांना धर्माच्या नावाखाली भडकवून बंदूक हातात घ्यायला भाग पाडलं जातं",
         "-1"
        ],
        [
         "2",
         " पवार साहेबांवर टीका करणाऱ्यांना महाराष्ट्रातील जनता मत पेटीतून उत्तर देईल.      साल हे परिवर्तनाचे साल घोषित करून जनतेने या सरकारला खाली खेचले पाहिजे. \n\n \n",
         "-1"
        ],
        [
         "3",
         " मी दुखी का मी खुशच आहे ",
         "1"
        ],
        [
         "4",
         "कठीण परिस्थितीशी दोन हात करण्यापेक्षा हार मानून आत्महत्या करण्याचं टोकाचं पाऊल उचलणाऱ्या तीची गोष्ट आहे",
         "-1"
        ]
       ],
       "shape": {
        "columns": 2,
        "rows": 5
       }
      },
      "text/html": [
       "<div>\n",
       "<style scoped>\n",
       "    .dataframe tbody tr th:only-of-type {\n",
       "        vertical-align: middle;\n",
       "    }\n",
       "\n",
       "    .dataframe tbody tr th {\n",
       "        vertical-align: top;\n",
       "    }\n",
       "\n",
       "    .dataframe thead th {\n",
       "        text-align: right;\n",
       "    }\n",
       "</style>\n",
       "<table border=\"1\" class=\"dataframe\">\n",
       "  <thead>\n",
       "    <tr style=\"text-align: right;\">\n",
       "      <th></th>\n",
       "      <th>text</th>\n",
       "      <th>label</th>\n",
       "    </tr>\n",
       "  </thead>\n",
       "  <tbody>\n",
       "    <tr>\n",
       "      <th>0</th>\n",
       "      <td>ही प्रेरणा एका पिढीकडून दुसऱ्या पिढीकडे आणि मग...</td>\n",
       "      <td>1</td>\n",
       "    </tr>\n",
       "    <tr>\n",
       "      <th>1</th>\n",
       "      <td>काश्मिरमध्ये आजही लहान मुलं आणि युवकांना धर्मा...</td>\n",
       "      <td>-1</td>\n",
       "    </tr>\n",
       "    <tr>\n",
       "      <th>2</th>\n",
       "      <td>पवार साहेबांवर टीका करणाऱ्यांना महाराष्ट्राती...</td>\n",
       "      <td>-1</td>\n",
       "    </tr>\n",
       "    <tr>\n",
       "      <th>3</th>\n",
       "      <td>मी दुखी का मी खुशच आहे</td>\n",
       "      <td>1</td>\n",
       "    </tr>\n",
       "    <tr>\n",
       "      <th>4</th>\n",
       "      <td>कठीण परिस्थितीशी दोन हात करण्यापेक्षा हार मानू...</td>\n",
       "      <td>-1</td>\n",
       "    </tr>\n",
       "  </tbody>\n",
       "</table>\n",
       "</div>"
      ],
      "text/plain": [
       "                                                text  label\n",
       "0  ही प्रेरणा एका पिढीकडून दुसऱ्या पिढीकडे आणि मग...      1\n",
       "1  काश्मिरमध्ये आजही लहान मुलं आणि युवकांना धर्मा...     -1\n",
       "2   पवार साहेबांवर टीका करणाऱ्यांना महाराष्ट्राती...     -1\n",
       "3                            मी दुखी का मी खुशच आहे       1\n",
       "4  कठीण परिस्थितीशी दोन हात करण्यापेक्षा हार मानू...     -1"
      ]
     },
     "execution_count": 4,
     "metadata": {},
     "output_type": "execute_result"
    }
   ],
   "source": [
    "data: pd.DataFrame = pd.concat([train_df, val_df, test_df], axis=0)\n",
    "data = data.drop_duplicates(subset=[\"text\"], keep=\"first\")\n",
    "data = data.sample(frac=1).reset_index(drop=True)\n",
    "print(f\"Shape of dataset: {data.shape}\")\n",
    "data.head()"
   ]
  },
  {
   "cell_type": "code",
   "execution_count": 5,
   "id": "20fca0ea",
   "metadata": {},
   "outputs": [],
   "source": [
    "val_size: int = 4000\n",
    "test_size: int = 6000"
   ]
  },
  {
   "cell_type": "code",
   "execution_count": null,
   "id": "f7918539",
   "metadata": {},
   "outputs": [],
   "source": [
    "val_data: pd.DataFrame = data.iloc[:val_size]\n",
    "test_data: pd.DataFrame = data.iloc[val_size : val_size + test_size]\n",
    "train_data: pd.DataFrame = data.iloc[val_size + test_size :]"
   ]
  },
  {
   "cell_type": "code",
   "execution_count": 7,
   "id": "738a7f82",
   "metadata": {},
   "outputs": [],
   "source": [
    "def getXY(data: pd.DataFrame) -> tuple[pd.Series, pd.Series]:\n",
    "    return (data[\"text\"], data[\"label\"])"
   ]
  },
  {
   "cell_type": "code",
   "execution_count": 8,
   "id": "ea0928f8",
   "metadata": {},
   "outputs": [
    {
     "name": "stdout",
     "output_type": "stream",
     "text": [
      "Train Dataset: (50509, 2)\n",
      "Validation Dataset: (4000, 2)\n",
      "Test Dataset: (6000, 2)\n"
     ]
    }
   ],
   "source": [
    "print(f\"Train Dataset: {train_data.shape}\")\n",
    "x_train, y_train = getXY(data=train_data)\n",
    "print(f\"Validation Dataset: {val_data.shape}\")\n",
    "x_val, y_val = getXY(data=val_data)\n",
    "print(f\"Test Dataset: {test_data.shape}\")\n",
    "x_test, y_test = getXY(data=test_data)"
   ]
  }
 ],
 "metadata": {
  "kernelspec": {
   "display_name": "marathi_sent",
   "language": "python",
   "name": "python3"
  },
  "language_info": {
   "codemirror_mode": {
    "name": "ipython",
    "version": 3
   },
   "file_extension": ".py",
   "mimetype": "text/x-python",
   "name": "python",
   "nbconvert_exporter": "python",
   "pygments_lexer": "ipython3",
   "version": "3.12.11"
  }
 },
 "nbformat": 4,
 "nbformat_minor": 5
}
